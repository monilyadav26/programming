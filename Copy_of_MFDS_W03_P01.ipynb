{
  "nbformat": 4,
  "nbformat_minor": 0,
  "metadata": {
    "colab": {
      "name": "Copy of MFDS_W03_P01.ipynb",
      "provenance": [],
      "collapsed_sections": [
        "JbybVpCPcPrS",
        "oUQdTP2Mkwi0",
        "w_E6mvZosLvB",
        "S9XP2juFE3Y3",
        "5gix6ZfTpzn-",
        "ioIx06kVuqDs",
        "5a0nIiZMIzgy"
      ],
      "toc_visible": true,
      "authorship_tag": "ABX9TyMZgMsIBWU2SjA5k/XK2OsQ",
      "include_colab_link": true
    },
    "kernelspec": {
      "name": "python3",
      "display_name": "Python 3"
    }
  },
  "cells": [
    {
      "cell_type": "markdown",
      "metadata": {
        "id": "view-in-github",
        "colab_type": "text"
      },
      "source": [
        "<a href=\"https://colab.research.google.com/github/monilyadav26/programming/blob/master/Copy_of_MFDS_W03_P01.ipynb\" target=\"_parent\"><img src=\"https://colab.research.google.com/assets/colab-badge.svg\" alt=\"Open In Colab\"/></a>"
      ]
    },
    {
      "cell_type": "markdown",
      "metadata": {
        "id": "2ZMt7u5eZrck",
        "colab_type": "text"
      },
      "source": [
        "# My fest Python code"
      ]
    },
    {
      "cell_type": "markdown",
      "metadata": {
        "id": "JbybVpCPcPrS",
        "colab_type": "text"
      },
      "source": [
        "# BASIC CODE"
      ]
    },
    {
      "cell_type": "code",
      "metadata": {
        "id": "mtqFeCjwciu-",
        "colab_type": "code",
        "outputId": "e78c93cb-a19e-4972-c681-a94678fd32f9",
        "colab": {
          "base_uri": "https://localhost:8080/",
          "height": 34
        }
      },
      "source": [
        "print(\"Hello World!\")"
      ],
      "execution_count": 0,
      "outputs": [
        {
          "output_type": "stream",
          "text": [
            "Hello World!\n"
          ],
          "name": "stdout"
        }
      ]
    },
    {
      "cell_type": "code",
      "metadata": {
        "id": "TM58eKBqdfJ3",
        "colab_type": "code",
        "outputId": "b5e07e52-d7a4-45a9-b899-dfd3d59ac841",
        "colab": {
          "base_uri": "https://localhost:8080/",
          "height": 51
        }
      },
      "source": [
        "print(\"Hello World!\")\n",
        "print(\"Namaskar from PadhAI\")"
      ],
      "execution_count": 0,
      "outputs": [
        {
          "output_type": "stream",
          "text": [
            "Hello World!\n",
            "Namaskar from PadhAI\n"
          ],
          "name": "stdout"
        }
      ]
    },
    {
      "cell_type": "code",
      "metadata": {
        "id": "Dz_S3fmGeZs7",
        "colab_type": "code",
        "outputId": "71762f8d-e64e-4a37-90ce-67471cd7ee24",
        "colab": {
          "base_uri": "https://localhost:8080/",
          "height": 51
        }
      },
      "source": [
        "print(\"PadhAI\")\n",
        "print(\"Padh\"+ \"AI\")"
      ],
      "execution_count": 0,
      "outputs": [
        {
          "output_type": "stream",
          "text": [
            "PadhAI\n",
            "PadhAI\n"
          ],
          "name": "stdout"
        }
      ]
    },
    {
      "cell_type": "code",
      "metadata": {
        "id": "5eaqWPQ0fUjg",
        "colab_type": "code",
        "outputId": "b3d9dd7f-e957-4cb4-ea74-2b557bcab1e6",
        "colab": {
          "base_uri": "https://localhost:8080/",
          "height": 34
        }
      },
      "source": [
        "print(1729)   # check this with Ramanujan's entry"
      ],
      "execution_count": 0,
      "outputs": [
        {
          "output_type": "stream",
          "text": [
            "1729\n"
          ],
          "name": "stdout"
        }
      ]
    },
    {
      "cell_type": "code",
      "metadata": {
        "id": "nT7aREUQf22b",
        "colab_type": "code",
        "outputId": "fe2eec89-c43f-4916-f4fd-e28be27f0400",
        "colab": {
          "base_uri": "https://localhost:8080/",
          "height": 34
        }
      },
      "source": [
        "print(1000+729)"
      ],
      "execution_count": 0,
      "outputs": [
        {
          "output_type": "stream",
          "text": [
            "1729\n"
          ],
          "name": "stdout"
        }
      ]
    },
    {
      "cell_type": "code",
      "metadata": {
        "id": "n4LOnJymf8hQ",
        "colab_type": "code",
        "outputId": "a4e21410-e4cf-4bf3-99fd-77b6b2f220bd",
        "colab": {
          "base_uri": "https://localhost:8080/",
          "height": 34
        }
      },
      "source": [
        "print(55/34)   # Check Golden Ratio"
      ],
      "execution_count": 0,
      "outputs": [
        {
          "output_type": "stream",
          "text": [
            "1.6176470588235294\n"
          ],
          "name": "stdout"
        }
      ]
    },
    {
      "cell_type": "code",
      "metadata": {
        "id": "Obnscw8IhbGT",
        "colab_type": "code",
        "outputId": "a754ce32-9d37-4f35-ba0d-73788a502f95",
        "colab": {
          "base_uri": "https://localhost:8080/",
          "height": 34
        }
      },
      "source": [
        "print(1.618)"
      ],
      "execution_count": 0,
      "outputs": [
        {
          "output_type": "stream",
          "text": [
            "1.618\n"
          ],
          "name": "stdout"
        }
      ]
    },
    {
      "cell_type": "code",
      "metadata": {
        "id": "E0RWeiGxh48A",
        "colab_type": "code",
        "outputId": "1a8b8f17-4423-4a9c-d040-48801a612819",
        "colab": {
          "base_uri": "https://localhost:8080/",
          "height": 34
        }
      },
      "source": [
        "print(True)"
      ],
      "execution_count": 0,
      "outputs": [
        {
          "output_type": "stream",
          "text": [
            "True\n"
          ],
          "name": "stdout"
        }
      ]
    },
    {
      "cell_type": "code",
      "metadata": {
        "id": "sXan5RFYiS38",
        "colab_type": "code",
        "outputId": "2f02826d-00a1-4a66-f78e-7dc11baba11b",
        "colab": {
          "base_uri": "https://localhost:8080/",
          "height": 34
        }
      },
      "source": [
        "print(False)"
      ],
      "execution_count": 0,
      "outputs": [
        {
          "output_type": "stream",
          "text": [
            "False\n"
          ],
          "name": "stdout"
        }
      ]
    },
    {
      "cell_type": "code",
      "metadata": {
        "id": "eIu0YLWZiYuL",
        "colab_type": "code",
        "outputId": "c91b169e-a404-46b4-8f9c-a744b225a612",
        "colab": {
          "base_uri": "https://localhost:8080/",
          "height": 34
        }
      },
      "source": [
        "print(True or False)"
      ],
      "execution_count": 0,
      "outputs": [
        {
          "output_type": "stream",
          "text": [
            "True\n"
          ],
          "name": "stdout"
        }
      ]
    },
    {
      "cell_type": "code",
      "metadata": {
        "id": "jccCS4JqihLm",
        "colab_type": "code",
        "outputId": "011280be-32f5-44b0-fa60-12cc405d858c",
        "colab": {
          "base_uri": "https://localhost:8080/",
          "height": 34
        }
      },
      "source": [
        "print(True and False)"
      ],
      "execution_count": 0,
      "outputs": [
        {
          "output_type": "stream",
          "text": [
            "False\n"
          ],
          "name": "stdout"
        }
      ]
    },
    {
      "cell_type": "code",
      "metadata": {
        "id": "4I-alw_fiqKy",
        "colab_type": "code",
        "outputId": "0572e816-c001-4273-ec85-6107808b4e45",
        "colab": {
          "base_uri": "https://localhost:8080/",
          "height": 34
        }
      },
      "source": [
        "print(True or True)"
      ],
      "execution_count": 0,
      "outputs": [
        {
          "output_type": "stream",
          "text": [
            "True\n"
          ],
          "name": "stdout"
        }
      ]
    },
    {
      "cell_type": "code",
      "metadata": {
        "id": "_KxqzSDSjI1q",
        "colab_type": "code",
        "outputId": "0ddb8cd7-cb6b-487d-ac1f-1f9a28735670",
        "colab": {
          "base_uri": "https://localhost:8080/",
          "height": 34
        }
      },
      "source": [
        "print(False or False)"
      ],
      "execution_count": 0,
      "outputs": [
        {
          "output_type": "stream",
          "text": [
            "False\n"
          ],
          "name": "stdout"
        }
      ]
    },
    {
      "cell_type": "code",
      "metadata": {
        "id": "VqW041y9jRRV",
        "colab_type": "code",
        "outputId": "45387e95-1326-4182-e713-40144a9b989c",
        "colab": {
          "base_uri": "https://localhost:8080/",
          "height": 34
        }
      },
      "source": [
        "print(True and True)"
      ],
      "execution_count": 0,
      "outputs": [
        {
          "output_type": "stream",
          "text": [
            "True\n"
          ],
          "name": "stdout"
        }
      ]
    },
    {
      "cell_type": "code",
      "metadata": {
        "id": "ZZuErmVAjhhR",
        "colab_type": "code",
        "outputId": "82b946f0-c3af-46e5-c6d6-bfa2afbe8a07",
        "colab": {
          "base_uri": "https://localhost:8080/",
          "height": 34
        }
      },
      "source": [
        "print(False and False)"
      ],
      "execution_count": 0,
      "outputs": [
        {
          "output_type": "stream",
          "text": [
            "False\n"
          ],
          "name": "stdout"
        }
      ]
    },
    {
      "cell_type": "code",
      "metadata": {
        "id": "SYeKCWuujokq",
        "colab_type": "code",
        "outputId": "b1b1f6cd-3290-4a91-b867-d4e16ef0c3d2",
        "colab": {
          "base_uri": "https://localhost:8080/",
          "height": 34
        }
      },
      "source": [
        "print(False or True)"
      ],
      "execution_count": 0,
      "outputs": [
        {
          "output_type": "stream",
          "text": [
            "True\n"
          ],
          "name": "stdout"
        }
      ]
    },
    {
      "cell_type": "code",
      "metadata": {
        "id": "l6LwVWxtj0VR",
        "colab_type": "code",
        "outputId": "e81ac9fc-9ef1-46e2-b66a-e514774159ee",
        "colab": {
          "base_uri": "https://localhost:8080/",
          "height": 34
        }
      },
      "source": [
        "print(False and True)"
      ],
      "execution_count": 0,
      "outputs": [
        {
          "output_type": "stream",
          "text": [
            "False\n"
          ],
          "name": "stdout"
        }
      ]
    },
    {
      "cell_type": "code",
      "metadata": {
        "id": "hrZj5lqej_wK",
        "colab_type": "code",
        "colab": {}
      },
      "source": [
        ""
      ],
      "execution_count": 0,
      "outputs": []
    },
    {
      "cell_type": "markdown",
      "metadata": {
        "id": "oUQdTP2Mkwi0",
        "colab_type": "text"
      },
      "source": [
        "# VARIABLES AND INPUTS"
      ]
    },
    {
      "cell_type": "code",
      "metadata": {
        "id": "-X4a7bXWljLM",
        "colab_type": "code",
        "colab": {}
      },
      "source": [
        "school = \"PadhAI\""
      ],
      "execution_count": 0,
      "outputs": []
    },
    {
      "cell_type": "code",
      "metadata": {
        "id": "yToNZ6ZUmi8O",
        "colab_type": "code",
        "outputId": "d71f5ca2-efb2-414f-eb50-3a84622fbbe2",
        "colab": {
          "base_uri": "https://localhost:8080/",
          "height": 34
        }
      },
      "source": [
        "print(school)"
      ],
      "execution_count": 0,
      "outputs": [
        {
          "output_type": "stream",
          "text": [
            "PadhAI\n"
          ],
          "name": "stdout"
        }
      ]
    },
    {
      "cell_type": "code",
      "metadata": {
        "id": "DIxuV1EjoZdw",
        "colab_type": "code",
        "outputId": "db638909-ea9c-4427-c337-e247bb193f14",
        "colab": {
          "base_uri": "https://localhost:8080/",
          "height": 34
        }
      },
      "source": [
        "print(type(school))"
      ],
      "execution_count": 0,
      "outputs": [
        {
          "output_type": "stream",
          "text": [
            "<class 'str'>\n"
          ],
          "name": "stdout"
        }
      ]
    },
    {
      "cell_type": "code",
      "metadata": {
        "id": "DrJpLoycorvI",
        "colab_type": "code",
        "outputId": "a5a0f368-8bd3-4bc0-8996-baf00d2e160f",
        "colab": {
          "base_uri": "https://localhost:8080/",
          "height": 34
        }
      },
      "source": [
        "print(id(school))"
      ],
      "execution_count": 0,
      "outputs": [
        {
          "output_type": "stream",
          "text": [
            "140669901228832\n"
          ],
          "name": "stdout"
        }
      ]
    },
    {
      "cell_type": "code",
      "metadata": {
        "id": "yZuqoinno-Qd",
        "colab_type": "code",
        "colab": {}
      },
      "source": [
        "another_school = \"PadhAI\"\n"
      ],
      "execution_count": 0,
      "outputs": []
    },
    {
      "cell_type": "code",
      "metadata": {
        "id": "MJI27Kc3qFug",
        "colab_type": "code",
        "outputId": "ffa658a4-ada8-4858-ad1d-d64f4c85d5a9",
        "colab": {
          "base_uri": "https://localhost:8080/",
          "height": 34
        }
      },
      "source": [
        "print(another_school)"
      ],
      "execution_count": 0,
      "outputs": [
        {
          "output_type": "stream",
          "text": [
            "PadhAI\n"
          ],
          "name": "stdout"
        }
      ]
    },
    {
      "cell_type": "code",
      "metadata": {
        "id": "IN1oFFaOqQ-P",
        "colab_type": "code",
        "outputId": "3a344336-5913-418d-e52d-fe1316b39382",
        "colab": {
          "base_uri": "https://localhost:8080/",
          "height": 34
        }
      },
      "source": [
        "print(id(another_school))"
      ],
      "execution_count": 0,
      "outputs": [
        {
          "output_type": "stream",
          "text": [
            "140669901228832\n"
          ],
          "name": "stdout"
        }
      ]
    },
    {
      "cell_type": "code",
      "metadata": {
        "id": "SlqDKR6bqsnz",
        "colab_type": "code",
        "outputId": "282ab0ff-95cf-47d9-9891-1503c3400d0b",
        "colab": {
          "base_uri": "https://localhost:8080/",
          "height": 34
        }
      },
      "source": [
        "print(\"I am studing at \" + school)"
      ],
      "execution_count": 0,
      "outputs": [
        {
          "output_type": "stream",
          "text": [
            "I am studing at PadhAI\n"
          ],
          "name": "stdout"
        }
      ]
    },
    {
      "cell_type": "markdown",
      "metadata": {
        "id": "w_E6mvZosLvB",
        "colab_type": "text"
      },
      "source": [
        "# INTEGERS, FLOATING POINTS, BOOLEAN TYPES AND INPUT"
      ]
    },
    {
      "cell_type": "code",
      "metadata": {
        "id": "a8CLKCsHspFx",
        "colab_type": "code",
        "colab": {}
      },
      "source": [
        "r_no = 1729"
      ],
      "execution_count": 0,
      "outputs": []
    },
    {
      "cell_type": "code",
      "metadata": {
        "id": "s2ZPClp_tWsr",
        "colab_type": "code",
        "outputId": "11403141-9499-46e3-982a-45873cbf764c",
        "colab": {
          "base_uri": "https://localhost:8080/",
          "height": 34
        }
      },
      "source": [
        "print(type(r_no))"
      ],
      "execution_count": 0,
      "outputs": [
        {
          "output_type": "stream",
          "text": [
            "<class 'int'>\n"
          ],
          "name": "stdout"
        }
      ]
    },
    {
      "cell_type": "code",
      "metadata": {
        "id": "8VfAhwUjtj4y",
        "colab_type": "code",
        "colab": {}
      },
      "source": [
        "golden_ratio = 55/34"
      ],
      "execution_count": 0,
      "outputs": []
    },
    {
      "cell_type": "code",
      "metadata": {
        "id": "Q4m0SAkAuBOV",
        "colab_type": "code",
        "outputId": "586cf234-3779-4100-8fea-1b707cad036d",
        "colab": {
          "base_uri": "https://localhost:8080/",
          "height": 34
        }
      },
      "source": [
        "print(type(golden_ratio))"
      ],
      "execution_count": 0,
      "outputs": [
        {
          "output_type": "stream",
          "text": [
            "<class 'float'>\n"
          ],
          "name": "stdout"
        }
      ]
    },
    {
      "cell_type": "code",
      "metadata": {
        "id": "FoH8XylQuKc8",
        "colab_type": "code",
        "colab": {}
      },
      "source": [
        "is_good = True"
      ],
      "execution_count": 0,
      "outputs": []
    },
    {
      "cell_type": "code",
      "metadata": {
        "id": "1JWJyLMqubAX",
        "colab_type": "code",
        "outputId": "24a93036-be34-446b-a55f-19e7770309b0",
        "colab": {
          "base_uri": "https://localhost:8080/",
          "height": 34
        }
      },
      "source": [
        "print(type(is_good))"
      ],
      "execution_count": 0,
      "outputs": [
        {
          "output_type": "stream",
          "text": [
            "<class 'bool'>\n"
          ],
          "name": "stdout"
        }
      ]
    },
    {
      "cell_type": "code",
      "metadata": {
        "id": "c0fRSIz5uhpS",
        "colab_type": "code",
        "outputId": "45d006c6-5461-418f-8cce-da48f7cee830",
        "colab": {
          "base_uri": "https://localhost:8080/",
          "height": 34
        }
      },
      "source": [
        "my_name = input(\"What is your name \")"
      ],
      "execution_count": 0,
      "outputs": [
        {
          "output_type": "stream",
          "text": [
            "What is your name Monil Singh Yadav\n"
          ],
          "name": "stdout"
        }
      ]
    },
    {
      "cell_type": "code",
      "metadata": {
        "id": "70czRt1Av-ay",
        "colab_type": "code",
        "outputId": "f9dbead4-8235-4543-bfa8-b74a20a73043",
        "colab": {
          "base_uri": "https://localhost:8080/",
          "height": 34
        }
      },
      "source": [
        "print(my_name, type(my_name) )"
      ],
      "execution_count": 0,
      "outputs": [
        {
          "output_type": "stream",
          "text": [
            "Monil Singh Yadav <class 'str'>\n"
          ],
          "name": "stdout"
        }
      ]
    },
    {
      "cell_type": "code",
      "metadata": {
        "id": "CqqdVLbIwRxp",
        "colab_type": "code",
        "outputId": "eaa12ac5-bb81-4e10-f750-dd3a6a0ea077",
        "colab": {
          "base_uri": "https://localhost:8080/",
          "height": 34
        }
      },
      "source": [
        "print(my_name + \" is studying at \" + school)"
      ],
      "execution_count": 0,
      "outputs": [
        {
          "output_type": "stream",
          "text": [
            "Monil Singh Yadav is studying at PadhAI\n"
          ],
          "name": "stdout"
        }
      ]
    },
    {
      "cell_type": "code",
      "metadata": {
        "id": "o0J35E32xcNL",
        "colab_type": "code",
        "outputId": "2f7f74db-1743-4298-b631-366ba927ba77",
        "colab": {
          "base_uri": "https://localhost:8080/",
          "height": 34
        }
      },
      "source": [
        "hours_per_day = input(\" How many hours per day do you study \")"
      ],
      "execution_count": 0,
      "outputs": [
        {
          "output_type": "stream",
          "text": [
            " How many hours per day do you study 2.5\n"
          ],
          "name": "stdout"
        }
      ]
    },
    {
      "cell_type": "code",
      "metadata": {
        "id": "oPBtdYIWyXZb",
        "colab_type": "code",
        "outputId": "54df7d58-39cf-473b-9bdc-b20b26c29100",
        "colab": {
          "base_uri": "https://localhost:8080/",
          "height": 34
        }
      },
      "source": [
        "print(my_name + \" studies for \" + hours_per_day + \" hours. \")"
      ],
      "execution_count": 0,
      "outputs": [
        {
          "output_type": "stream",
          "text": [
            "Monil Singh Yadav studies for 2.5 hours. \n"
          ],
          "name": "stdout"
        }
      ]
    },
    {
      "cell_type": "code",
      "metadata": {
        "id": "jNZaHhuJzPRN",
        "colab_type": "code",
        "colab": {}
      },
      "source": [
        "hours_per_day_int = float(hours_per_day)"
      ],
      "execution_count": 0,
      "outputs": []
    },
    {
      "cell_type": "code",
      "metadata": {
        "id": "z3g8ZJbE3ApA",
        "colab_type": "code",
        "outputId": "d859de78-bc49-4e37-b88e-29663af2f4c5",
        "colab": {
          "base_uri": "https://localhost:8080/",
          "height": 34
        }
      },
      "source": [
        "print(hours_per_day_int, type(hours_per_day_int))"
      ],
      "execution_count": 0,
      "outputs": [
        {
          "output_type": "stream",
          "text": [
            "2.5 <class 'float'>\n"
          ],
          "name": "stdout"
        }
      ]
    },
    {
      "cell_type": "code",
      "metadata": {
        "id": "nRkY3XMr3Xa8",
        "colab_type": "code",
        "colab": {}
      },
      "source": [
        "hours_per_week = hours_per_day_int * 7"
      ],
      "execution_count": 0,
      "outputs": []
    },
    {
      "cell_type": "code",
      "metadata": {
        "id": "2EXDV4AL4QVR",
        "colab_type": "code",
        "outputId": "87421100-9d1c-40da-e13a-a80c007c942a",
        "colab": {
          "base_uri": "https://localhost:8080/",
          "height": 34
        }
      },
      "source": [
        "print(hours_per_week, type(hours_per_week))"
      ],
      "execution_count": 0,
      "outputs": [
        {
          "output_type": "stream",
          "text": [
            "17.5 <class 'float'>\n"
          ],
          "name": "stdout"
        }
      ]
    },
    {
      "cell_type": "code",
      "metadata": {
        "id": "oRH2jt3m6AzL",
        "colab_type": "code",
        "colab": {}
      },
      "source": [
        "hours_per_week_str = str(hours_per_week)\n"
      ],
      "execution_count": 0,
      "outputs": []
    },
    {
      "cell_type": "code",
      "metadata": {
        "id": "kN5S1r-k6qCD",
        "colab_type": "code",
        "outputId": "61cd5391-a958-486f-b72a-17d870063d5d",
        "colab": {
          "base_uri": "https://localhost:8080/",
          "height": 34
        }
      },
      "source": [
        "print(hours_per_week_str, type(hours_per_week_str))"
      ],
      "execution_count": 0,
      "outputs": [
        {
          "output_type": "stream",
          "text": [
            "17.5 <class 'str'>\n"
          ],
          "name": "stdout"
        }
      ]
    },
    {
      "cell_type": "code",
      "metadata": {
        "id": "ZvUZh-2W7ARd",
        "colab_type": "code",
        "outputId": "01aa160d-d31d-460e-dfe4-6f6e944f5c22",
        "colab": {
          "base_uri": "https://localhost:8080/",
          "height": 34
        }
      },
      "source": [
        "print(my_name + \" studies from \" + hours_per_week_str + \" hours per week\")"
      ],
      "execution_count": 0,
      "outputs": [
        {
          "output_type": "stream",
          "text": [
            "Monil Singh Yadav studies from 17.5 hours per week\n"
          ],
          "name": "stdout"
        }
      ]
    },
    {
      "cell_type": "markdown",
      "metadata": {
        "id": "S9XP2juFE3Y3",
        "colab_type": "text"
      },
      "source": [
        "# STRING PROCESSING"
      ]
    },
    {
      "cell_type": "code",
      "metadata": {
        "id": "FZH3DRVNFH0O",
        "colab_type": "code",
        "colab": {}
      },
      "source": [
        "topic = \"Foundations of Data Science\""
      ],
      "execution_count": 0,
      "outputs": []
    },
    {
      "cell_type": "code",
      "metadata": {
        "id": "ja6JFe2FFxQ2",
        "colab_type": "code",
        "outputId": "c72d0bf0-a7e4-4406-e365-4a1708d9374e",
        "colab": {
          "base_uri": "https://localhost:8080/",
          "height": 34
        }
      },
      "source": [
        "print(topic)"
      ],
      "execution_count": 0,
      "outputs": [
        {
          "output_type": "stream",
          "text": [
            "Foundations of Data Science\n"
          ],
          "name": "stdout"
        }
      ]
    },
    {
      "cell_type": "code",
      "metadata": {
        "id": "zFeSdK0FF3RO",
        "colab_type": "code",
        "outputId": "6132eca5-19b2-4fd4-f4c8-b25d623138d4",
        "colab": {
          "base_uri": "https://localhost:8080/",
          "height": 34
        }
      },
      "source": [
        "print(topic[0])"
      ],
      "execution_count": 0,
      "outputs": [
        {
          "output_type": "stream",
          "text": [
            "F\n"
          ],
          "name": "stdout"
        }
      ]
    },
    {
      "cell_type": "code",
      "metadata": {
        "id": "G8het_afGL8W",
        "colab_type": "code",
        "outputId": "cd8cfcd9-b174-4ef5-9e3d-cc9a93f8186e",
        "colab": {
          "base_uri": "https://localhost:8080/",
          "height": 34
        }
      },
      "source": [
        "print(topic[1])"
      ],
      "execution_count": 0,
      "outputs": [
        {
          "output_type": "stream",
          "text": [
            "o\n"
          ],
          "name": "stdout"
        }
      ]
    },
    {
      "cell_type": "code",
      "metadata": {
        "id": "owb2DK2MGagp",
        "colab_type": "code",
        "outputId": "730b59b0-c997-4872-9eb2-5cdc9abe62f7",
        "colab": {
          "base_uri": "https://localhost:8080/",
          "height": 34
        }
      },
      "source": [
        "print(topic[10])"
      ],
      "execution_count": 0,
      "outputs": [
        {
          "output_type": "stream",
          "text": [
            "s\n"
          ],
          "name": "stdout"
        }
      ]
    },
    {
      "cell_type": "code",
      "metadata": {
        "id": "IyJtpGqcGwEG",
        "colab_type": "code",
        "outputId": "c900c7ac-7317-4936-88c7-aa82b633be69",
        "colab": {
          "base_uri": "https://localhost:8080/",
          "height": 34
        }
      },
      "source": [
        "print(topic[-1])"
      ],
      "execution_count": 0,
      "outputs": [
        {
          "output_type": "stream",
          "text": [
            "e\n"
          ],
          "name": "stdout"
        }
      ]
    },
    {
      "cell_type": "code",
      "metadata": {
        "id": "75fSfQe2G2AO",
        "colab_type": "code",
        "outputId": "90c28b78-9069-4cab-915f-12b06d6955ed",
        "colab": {
          "base_uri": "https://localhost:8080/",
          "height": 34
        }
      },
      "source": [
        "print(topic[-2])"
      ],
      "execution_count": 0,
      "outputs": [
        {
          "output_type": "stream",
          "text": [
            "c\n"
          ],
          "name": "stdout"
        }
      ]
    },
    {
      "cell_type": "code",
      "metadata": {
        "id": "jIsGf6nLG_SP",
        "colab_type": "code",
        "outputId": "66b5c5cb-3cee-4a10-940e-e69df056f022",
        "colab": {
          "base_uri": "https://localhost:8080/",
          "height": 34
        }
      },
      "source": [
        "print(topic[0:10])"
      ],
      "execution_count": 0,
      "outputs": [
        {
          "output_type": "stream",
          "text": [
            "Foundation\n"
          ],
          "name": "stdout"
        }
      ]
    },
    {
      "cell_type": "code",
      "metadata": {
        "id": "bIxP-KhqHiM3",
        "colab_type": "code",
        "outputId": "ef0d0d3c-cd90-491d-8df4-1e611245ff8b",
        "colab": {
          "base_uri": "https://localhost:8080/",
          "height": 34
        }
      },
      "source": [
        "print(topic[12:16])"
      ],
      "execution_count": 0,
      "outputs": [
        {
          "output_type": "stream",
          "text": [
            "of D\n"
          ],
          "name": "stdout"
        }
      ]
    },
    {
      "cell_type": "code",
      "metadata": {
        "id": "EvQfkiEXHt26",
        "colab_type": "code",
        "outputId": "15faf6e1-8aae-4aae-c293-ffd3ddbb71e5",
        "colab": {
          "base_uri": "https://localhost:8080/",
          "height": 34
        }
      },
      "source": [
        "print(topic.lower())"
      ],
      "execution_count": 0,
      "outputs": [
        {
          "output_type": "stream",
          "text": [
            "foundations of data science\n"
          ],
          "name": "stdout"
        }
      ]
    },
    {
      "cell_type": "code",
      "metadata": {
        "id": "N3dzqfcqImlO",
        "colab_type": "code",
        "outputId": "aa6b6d8e-d496-40c0-9dc0-cc398c3976dd",
        "colab": {
          "base_uri": "https://localhost:8080/",
          "height": 34
        }
      },
      "source": [
        "print(topic)"
      ],
      "execution_count": 0,
      "outputs": [
        {
          "output_type": "stream",
          "text": [
            "Foundations of Data Science\n"
          ],
          "name": "stdout"
        }
      ]
    },
    {
      "cell_type": "code",
      "metadata": {
        "id": "JI2PshAASIxt",
        "colab_type": "code",
        "colab": {}
      },
      "source": [
        "topic = topic.lower()"
      ],
      "execution_count": 0,
      "outputs": []
    },
    {
      "cell_type": "code",
      "metadata": {
        "id": "JZQJoA0-Sd74",
        "colab_type": "code",
        "outputId": "3bcc9523-f724-41ac-fb4a-ba125e0f8b4b",
        "colab": {
          "base_uri": "https://localhost:8080/",
          "height": 34
        }
      },
      "source": [
        "print(topic)"
      ],
      "execution_count": 0,
      "outputs": [
        {
          "output_type": "stream",
          "text": [
            "foundations of data science\n"
          ],
          "name": "stdout"
        }
      ]
    },
    {
      "cell_type": "code",
      "metadata": {
        "id": "FCQv290QSm6L",
        "colab_type": "code",
        "colab": {}
      },
      "source": [
        "topic = topic.upper()"
      ],
      "execution_count": 0,
      "outputs": []
    },
    {
      "cell_type": "code",
      "metadata": {
        "id": "CCHeSI0WSxLm",
        "colab_type": "code",
        "outputId": "750884b8-b6ad-4dad-96a6-43e70c4c4eec",
        "colab": {
          "base_uri": "https://localhost:8080/",
          "height": 34
        }
      },
      "source": [
        "print(topic)"
      ],
      "execution_count": 0,
      "outputs": [
        {
          "output_type": "stream",
          "text": [
            "FOUNDATIONS OF DATA SCIENCE\n"
          ],
          "name": "stdout"
        }
      ]
    },
    {
      "cell_type": "code",
      "metadata": {
        "id": "Ka8sQeiyS4JM",
        "colab_type": "code",
        "outputId": "2532a410-b436-45ef-9a3a-a508740af23b",
        "colab": {
          "base_uri": "https://localhost:8080/",
          "height": 34
        }
      },
      "source": [
        "print(topic.isupper())"
      ],
      "execution_count": 0,
      "outputs": [
        {
          "output_type": "stream",
          "text": [
            "True\n"
          ],
          "name": "stdout"
        }
      ]
    },
    {
      "cell_type": "code",
      "metadata": {
        "id": "2U3ZSQJlTG8K",
        "colab_type": "code",
        "outputId": "c78d886e-dbbf-4b57-d2a6-ff92cf5db56a",
        "colab": {
          "base_uri": "https://localhost:8080/",
          "height": 34
        }
      },
      "source": [
        "print(topic.islower())"
      ],
      "execution_count": 0,
      "outputs": [
        {
          "output_type": "stream",
          "text": [
            "False\n"
          ],
          "name": "stdout"
        }
      ]
    },
    {
      "cell_type": "code",
      "metadata": {
        "id": "uupp9qa3TTHh",
        "colab_type": "code",
        "colab": {}
      },
      "source": [
        "topic = topic.lower()"
      ],
      "execution_count": 0,
      "outputs": []
    },
    {
      "cell_type": "code",
      "metadata": {
        "id": "cySA25FtTjub",
        "colab_type": "code",
        "outputId": "f04a2599-3118-4d9c-a02c-7aeb07432b9b",
        "colab": {
          "base_uri": "https://localhost:8080/",
          "height": 34
        }
      },
      "source": [
        "print(topic)"
      ],
      "execution_count": 0,
      "outputs": [
        {
          "output_type": "stream",
          "text": [
            "foundations of data science\n"
          ],
          "name": "stdout"
        }
      ]
    },
    {
      "cell_type": "code",
      "metadata": {
        "id": "GzA09rEATqdv",
        "colab_type": "code",
        "outputId": "39609d76-7480-445b-fc98-3d5915eac75f",
        "colab": {
          "base_uri": "https://localhost:8080/",
          "height": 34
        }
      },
      "source": [
        "print(topic.isupper())"
      ],
      "execution_count": 0,
      "outputs": [
        {
          "output_type": "stream",
          "text": [
            "False\n"
          ],
          "name": "stdout"
        }
      ]
    },
    {
      "cell_type": "code",
      "metadata": {
        "id": "QkOocUeoTx-_",
        "colab_type": "code",
        "outputId": "426bd974-9e05-45db-bf43-f0fe68c0b750",
        "colab": {
          "base_uri": "https://localhost:8080/",
          "height": 34
        }
      },
      "source": [
        "print(topic.islower())"
      ],
      "execution_count": 0,
      "outputs": [
        {
          "output_type": "stream",
          "text": [
            "True\n"
          ],
          "name": "stdout"
        }
      ]
    },
    {
      "cell_type": "code",
      "metadata": {
        "id": "N5itXoQST59I",
        "colab_type": "code",
        "outputId": "32aea28a-ae06-4274-830b-2e2b5152d851",
        "colab": {
          "base_uri": "https://localhost:8080/",
          "height": 34
        }
      },
      "source": [
        "print(topic.find(\"data\"))"
      ],
      "execution_count": 0,
      "outputs": [
        {
          "output_type": "stream",
          "text": [
            "15\n"
          ],
          "name": "stdout"
        }
      ]
    },
    {
      "cell_type": "code",
      "metadata": {
        "id": "PrqRNFKWUt_t",
        "colab_type": "code",
        "outputId": "e62621b7-8f2f-4528-ca5c-36a347d20724",
        "colab": {
          "base_uri": "https://localhost:8080/",
          "height": 34
        }
      },
      "source": [
        "print(topic[15])"
      ],
      "execution_count": 0,
      "outputs": [
        {
          "output_type": "stream",
          "text": [
            "d\n"
          ],
          "name": "stdout"
        }
      ]
    },
    {
      "cell_type": "code",
      "metadata": {
        "id": "OZ52juscVPGA",
        "colab_type": "code",
        "outputId": "435880fd-a34e-4cee-fdcb-d7f65cff5c5a",
        "colab": {
          "base_uri": "https://localhost:8080/",
          "height": 34
        }
      },
      "source": [
        "print(topic.find(\"ai\"))"
      ],
      "execution_count": 0,
      "outputs": [
        {
          "output_type": "stream",
          "text": [
            "-1\n"
          ],
          "name": "stdout"
        }
      ]
    },
    {
      "cell_type": "code",
      "metadata": {
        "id": "XB1gtK8gVkXn",
        "colab_type": "code",
        "outputId": "2df06946-7977-4f6c-eecd-3da68e6e50b3",
        "colab": {
          "base_uri": "https://localhost:8080/",
          "height": 34
        }
      },
      "source": [
        "print(topic.replace(\"science\", \"engineering\"))"
      ],
      "execution_count": 0,
      "outputs": [
        {
          "output_type": "stream",
          "text": [
            "foundations of data engineering\n"
          ],
          "name": "stdout"
        }
      ]
    },
    {
      "cell_type": "markdown",
      "metadata": {
        "id": "5gix6ZfTpzn-",
        "colab_type": "text"
      },
      "source": [
        "# FLOATING POINT"
      ]
    },
    {
      "cell_type": "code",
      "metadata": {
        "id": "sNjFDIofp-WZ",
        "colab_type": "code",
        "outputId": "c813267d-63f4-444a-c6ea-667f8cde3cde",
        "colab": {
          "base_uri": "https://localhost:8080/",
          "height": 34
        }
      },
      "source": [
        "print(55/34)"
      ],
      "execution_count": 0,
      "outputs": [
        {
          "output_type": "stream",
          "text": [
            "1.6176470588235294\n"
          ],
          "name": "stdout"
        }
      ]
    },
    {
      "cell_type": "code",
      "metadata": {
        "id": "W7Hh8saYqRS8",
        "colab_type": "code",
        "colab": {}
      },
      "source": [
        "golden_ratio = 55/34"
      ],
      "execution_count": 0,
      "outputs": []
    },
    {
      "cell_type": "code",
      "metadata": {
        "id": "SeDxtamcqutL",
        "colab_type": "code",
        "outputId": "9fb55e70-1198-4bc4-a4e9-2182336e9a24",
        "colab": {
          "base_uri": "https://localhost:8080/",
          "height": 34
        }
      },
      "source": [
        "print(type(golden_ratio))"
      ],
      "execution_count": 0,
      "outputs": [
        {
          "output_type": "stream",
          "text": [
            "<class 'float'>\n"
          ],
          "name": "stdout"
        }
      ]
    },
    {
      "cell_type": "code",
      "metadata": {
        "id": "i3Cfvli1q6ph",
        "colab_type": "code",
        "outputId": "b196feb8-5381-4385-b7ee-a9797c6ce5e6",
        "colab": {
          "base_uri": "https://localhost:8080/",
          "height": 34
        }
      },
      "source": [
        "print(golden_ratio.is_integer())"
      ],
      "execution_count": 0,
      "outputs": [
        {
          "output_type": "stream",
          "text": [
            "False\n"
          ],
          "name": "stdout"
        }
      ]
    },
    {
      "cell_type": "code",
      "metadata": {
        "id": "6V4hdAdur2qH",
        "colab_type": "code",
        "outputId": "6e6be25c-548d-4af6-cc43-b7e917fe06ae",
        "colab": {
          "base_uri": "https://localhost:8080/",
          "height": 34
        }
      },
      "source": [
        "print(golden_ratio.as_integer_ratio())"
      ],
      "execution_count": 0,
      "outputs": [
        {
          "output_type": "stream",
          "text": [
            "(3642617345667313, 2251799813685248)\n"
          ],
          "name": "stdout"
        }
      ]
    },
    {
      "cell_type": "code",
      "metadata": {
        "id": "lrk1-DCQsqiT",
        "colab_type": "code",
        "outputId": "888560ba-676b-48a0-d6cb-24a6f938b350",
        "colab": {
          "base_uri": "https://localhost:8080/",
          "height": 34
        }
      },
      "source": [
        "print(3642617345667313/2251799813685248)"
      ],
      "execution_count": 0,
      "outputs": [
        {
          "output_type": "stream",
          "text": [
            "1.6176470588235294\n"
          ],
          "name": "stdout"
        }
      ]
    },
    {
      "cell_type": "code",
      "metadata": {
        "id": "XR57XG2ps_4E",
        "colab_type": "code",
        "outputId": "5e653d4a-087f-430e-ba49-e14fd020b073",
        "colab": {
          "base_uri": "https://localhost:8080/",
          "height": 34
        }
      },
      "source": [
        "print(55//34,  55/34,  55%34 )"
      ],
      "execution_count": 0,
      "outputs": [
        {
          "output_type": "stream",
          "text": [
            "1 1.6176470588235294 21\n"
          ],
          "name": "stdout"
        }
      ]
    },
    {
      "cell_type": "code",
      "metadata": {
        "id": "erhuLRXOt5Pj",
        "colab_type": "code",
        "outputId": "1fbb2308-c715-4ce5-b4cc-951c3f3c77c8",
        "colab": {
          "base_uri": "https://localhost:8080/",
          "height": 34
        }
      },
      "source": [
        "print(2**3)"
      ],
      "execution_count": 0,
      "outputs": [
        {
          "output_type": "stream",
          "text": [
            "8\n"
          ],
          "name": "stdout"
        }
      ]
    },
    {
      "cell_type": "markdown",
      "metadata": {
        "id": "ioIx06kVuqDs",
        "colab_type": "text"
      },
      "source": [
        "#IF, FOR, WHILE BLOCKS"
      ]
    },
    {
      "cell_type": "code",
      "metadata": {
        "id": "y4LwyeQuwdSA",
        "colab_type": "code",
        "colab": {}
      },
      "source": [
        "hours_per_week = 15"
      ],
      "execution_count": 0,
      "outputs": []
    },
    {
      "cell_type": "code",
      "metadata": {
        "id": "ZTeUVBy1x_l9",
        "colab_type": "code",
        "colab": {}
      },
      "source": [
        "my_name = \"Monil\""
      ],
      "execution_count": 0,
      "outputs": []
    },
    {
      "cell_type": "code",
      "metadata": {
        "id": "E_AoYLjoxB0e",
        "colab_type": "code",
        "outputId": "e24c4f8f-fc85-4732-a7f0-a8eeaaff46f9",
        "colab": {
          "base_uri": "https://localhost:8080/",
          "height": 34
        }
      },
      "source": [
        "if hours_per_week > 10:\n",
        "    print(my_name + \" are you doing well \")"
      ],
      "execution_count": 0,
      "outputs": [
        {
          "output_type": "stream",
          "text": [
            "Monil are you doing well \n"
          ],
          "name": "stdout"
        }
      ]
    },
    {
      "cell_type": "code",
      "metadata": {
        "id": "ftRzkDjRxg28",
        "colab_type": "code",
        "colab": {}
      },
      "source": [
        "hours_per_week = 1"
      ],
      "execution_count": 0,
      "outputs": []
    },
    {
      "cell_type": "code",
      "metadata": {
        "id": "qmYZQtJty_7X",
        "colab_type": "code",
        "colab": {}
      },
      "source": [
        "if hours_per_week > 10:\n",
        "    print(my_name + \"are you doing well \")"
      ],
      "execution_count": 0,
      "outputs": []
    },
    {
      "cell_type": "code",
      "metadata": {
        "id": "BfC86ULizz4q",
        "colab_type": "code",
        "outputId": "a3b12ce7-3575-4aab-d94b-c9142b64c20f",
        "colab": {
          "base_uri": "https://localhost:8080/",
          "height": 34
        }
      },
      "source": [
        "if hours_per_week > 10:\n",
        "    print(my_name + \"are you doing well\")\n",
        "print(\"Outside If\")    "
      ],
      "execution_count": 0,
      "outputs": [
        {
          "output_type": "stream",
          "text": [
            "Outside If\n"
          ],
          "name": "stdout"
        }
      ]
    },
    {
      "cell_type": "code",
      "metadata": {
        "id": "CKzOq9qG3C7L",
        "colab_type": "code",
        "colab": {}
      },
      "source": [
        "hours_per_week = 15"
      ],
      "execution_count": 0,
      "outputs": []
    },
    {
      "cell_type": "code",
      "metadata": {
        "id": "jrgD2ndr3LwP",
        "colab_type": "code",
        "outputId": "877715f7-d022-463d-81fb-f6c629d208cd",
        "colab": {
          "base_uri": "https://localhost:8080/",
          "height": 51
        }
      },
      "source": [
        "if hours_per_week > 10:\n",
        "    print(my_name + \" are you doing well\")\n",
        "print(\"Outside If\")    \n",
        "    "
      ],
      "execution_count": 0,
      "outputs": [
        {
          "output_type": "stream",
          "text": [
            "Monil are you doing well\n",
            "Outside If\n"
          ],
          "name": "stdout"
        }
      ]
    },
    {
      "cell_type": "code",
      "metadata": {
        "id": "lkTO3pnF3ZSo",
        "colab_type": "code",
        "outputId": "979bd9dc-4f37-4d9b-92a6-6f81b31b8ae7",
        "colab": {
          "base_uri": "https://localhost:8080/",
          "height": 34
        }
      },
      "source": [
        "if hours_per_week > 10:\n",
        "    print(my_name + \" are you doing well\")\n",
        "else:\n",
        "    print(my_name + \" you need study more \")"
      ],
      "execution_count": 0,
      "outputs": [
        {
          "output_type": "stream",
          "text": [
            "Monil are you doing well\n"
          ],
          "name": "stdout"
        }
      ]
    },
    {
      "cell_type": "code",
      "metadata": {
        "id": "hViiAl8d4zo7",
        "colab_type": "code",
        "colab": {}
      },
      "source": [
        "hours_per_week = 6"
      ],
      "execution_count": 0,
      "outputs": []
    },
    {
      "cell_type": "code",
      "metadata": {
        "id": "MeVBubSA5I3N",
        "colab_type": "code",
        "outputId": "7e32ffb2-52af-471e-e8ca-1346d6799c15",
        "colab": {
          "base_uri": "https://localhost:8080/",
          "height": 34
        }
      },
      "source": [
        "if hours_per_week > 10:\n",
        "    print(my_name + \" are you doing well \")\n",
        "else:\n",
        "    print(my_name +\" you need study more \")    "
      ],
      "execution_count": 0,
      "outputs": [
        {
          "output_type": "stream",
          "text": [
            "Monil you need study more \n"
          ],
          "name": "stdout"
        }
      ]
    },
    {
      "cell_type": "code",
      "metadata": {
        "id": "8EWCCdAx52g1",
        "colab_type": "code",
        "outputId": "2de1477e-f8fc-41ce-8851-e422b72dfe54",
        "colab": {
          "base_uri": "https://localhost:8080/",
          "height": 102
        }
      },
      "source": [
        "for i in range(5):\n",
        "    print(i)"
      ],
      "execution_count": 0,
      "outputs": [
        {
          "output_type": "stream",
          "text": [
            "0\n",
            "1\n",
            "2\n",
            "3\n",
            "4\n"
          ],
          "name": "stdout"
        }
      ]
    },
    {
      "cell_type": "code",
      "metadata": {
        "id": "X4ynqoO867lu",
        "colab_type": "code",
        "outputId": "7115eecf-99e5-4e18-afb4-2768c2cc7b83",
        "colab": {
          "base_uri": "https://localhost:8080/",
          "height": 102
        }
      },
      "source": [
        "for i in range(5):\n",
        "    print(i, i**2)"
      ],
      "execution_count": 0,
      "outputs": [
        {
          "output_type": "stream",
          "text": [
            "0 0\n",
            "1 1\n",
            "2 4\n",
            "3 9\n",
            "4 16\n"
          ],
          "name": "stdout"
        }
      ]
    },
    {
      "cell_type": "code",
      "metadata": {
        "id": "1L6bXK9Z7K3i",
        "colab_type": "code",
        "outputId": "4f64d21e-0fa4-48ac-f88b-ed12ea47ea0d",
        "colab": {
          "base_uri": "https://localhost:8080/",
          "height": 68
        }
      },
      "source": [
        "for i in range (2, 5):\n",
        "    print(i, i**2)"
      ],
      "execution_count": 0,
      "outputs": [
        {
          "output_type": "stream",
          "text": [
            "2 4\n",
            "3 9\n",
            "4 16\n"
          ],
          "name": "stdout"
        }
      ]
    },
    {
      "cell_type": "code",
      "metadata": {
        "id": "nlOoKBLS7hAH",
        "colab_type": "code",
        "outputId": "3bb7d821-871d-46de-ad6e-ce251800daa7",
        "colab": {
          "base_uri": "https://localhost:8080/",
          "height": 204
        }
      },
      "source": [
        "a=1\n",
        "b=1\n",
        "print(a, b)\n",
        "for i in range(10):\n",
        "    temp = a + b \n",
        "    a = b \n",
        "    b = temp\n",
        "    print(temp)"
      ],
      "execution_count": 0,
      "outputs": [
        {
          "output_type": "stream",
          "text": [
            "1 1\n",
            "2\n",
            "3\n",
            "5\n",
            "8\n",
            "13\n",
            "21\n",
            "34\n",
            "55\n",
            "89\n",
            "144\n"
          ],
          "name": "stdout"
        }
      ]
    },
    {
      "cell_type": "code",
      "metadata": {
        "id": "SZMxnjWrBXhE",
        "colab_type": "code",
        "outputId": "e96d9838-7962-4376-e50a-1c61a3d37466",
        "colab": {
          "base_uri": "https://localhost:8080/",
          "height": 306
        }
      },
      "source": [
        "a = 1\n",
        "b = 1\n",
        "print(a)\n",
        "print(b)\n",
        "while b < 1000:\n",
        "    temp = a+b\n",
        "    a = b\n",
        "    b = temp\n",
        "    print(temp)"
      ],
      "execution_count": 0,
      "outputs": [
        {
          "output_type": "stream",
          "text": [
            "1\n",
            "1\n",
            "2\n",
            "3\n",
            "5\n",
            "8\n",
            "13\n",
            "21\n",
            "34\n",
            "55\n",
            "89\n",
            "144\n",
            "233\n",
            "377\n",
            "610\n",
            "987\n",
            "1597\n"
          ],
          "name": "stdout"
        }
      ]
    },
    {
      "cell_type": "code",
      "metadata": {
        "id": "3PyjUgOIDWdP",
        "colab_type": "code",
        "outputId": "34b882c2-0911-4503-daf5-725289d408db",
        "colab": {
          "base_uri": "https://localhost:8080/",
          "height": 340
        }
      },
      "source": [
        "a = 1\n",
        "b = 1\n",
        "print(a)\n",
        "print(b)\n",
        "i = 2\n",
        "while b < 1729:\n",
        "    temp = a + b\n",
        "    i += 1\n",
        "    a = b\n",
        "    b = temp\n",
        "    print(temp)\n",
        "print(\" Printed\", i, \" Number\")    \n"
      ],
      "execution_count": 0,
      "outputs": [
        {
          "output_type": "stream",
          "text": [
            "1\n",
            "1\n",
            "2\n",
            "3\n",
            "5\n",
            "8\n",
            "13\n",
            "21\n",
            "34\n",
            "55\n",
            "89\n",
            "144\n",
            "233\n",
            "377\n",
            "610\n",
            "987\n",
            "1597\n",
            "2584\n",
            " Printed 18  Number\n"
          ],
          "name": "stdout"
        }
      ]
    },
    {
      "cell_type": "markdown",
      "metadata": {
        "id": "5a0nIiZMIzgy",
        "colab_type": "text"
      },
      "source": [
        "# FUNCTIONS"
      ]
    },
    {
      "cell_type": "code",
      "metadata": {
        "id": "vDStVgg7GEJn",
        "colab_type": "code",
        "colab": {}
      },
      "source": [
        "def fibonacci(pos):\n",
        "    a = 1\n",
        "    b = 1\n",
        "    for i in range(pos):\n",
        "       temp = a + b\n",
        "       a = b\n",
        "       b = temp\n",
        "    return temp\n"
      ],
      "execution_count": 0,
      "outputs": []
    },
    {
      "cell_type": "code",
      "metadata": {
        "id": "4lAQq20qS14e",
        "colab_type": "code",
        "outputId": "a0b1d105-0349-49bb-cf02-8dc1238d8795",
        "colab": {
          "base_uri": "https://localhost:8080/",
          "height": 34
        }
      },
      "source": [
        "print(fibonacci(3))"
      ],
      "execution_count": 0,
      "outputs": [
        {
          "output_type": "stream",
          "text": [
            "5\n"
          ],
          "name": "stdout"
        }
      ]
    },
    {
      "cell_type": "code",
      "metadata": {
        "id": "qcoa_gMSTOhY",
        "colab_type": "code",
        "outputId": "d7741f20-3dee-45c8-90b8-fd19add583e4",
        "colab": {
          "base_uri": "https://localhost:8080/",
          "height": 34
        }
      },
      "source": [
        "print(fibonacci(8), fibonacci(7))"
      ],
      "execution_count": 0,
      "outputs": [
        {
          "output_type": "stream",
          "text": [
            "55 34\n"
          ],
          "name": "stdout"
        }
      ]
    },
    {
      "cell_type": "code",
      "metadata": {
        "id": "A8z7aP28UP5-",
        "colab_type": "code",
        "outputId": "5a2f720c-00f7-49e5-865a-521ae5be3b4a",
        "colab": {
          "base_uri": "https://localhost:8080/",
          "height": 323
        }
      },
      "source": [
        "for i in range(2, 20):\n",
        "    ratio = fibonacci(i) / fibonacci(i-1)\n",
        "    print(i, ratio)"
      ],
      "execution_count": 0,
      "outputs": [
        {
          "output_type": "stream",
          "text": [
            "2 1.5\n",
            "3 1.6666666666666667\n",
            "4 1.6\n",
            "5 1.625\n",
            "6 1.6153846153846154\n",
            "7 1.619047619047619\n",
            "8 1.6176470588235294\n",
            "9 1.6181818181818182\n",
            "10 1.6179775280898876\n",
            "11 1.6180555555555556\n",
            "12 1.6180257510729614\n",
            "13 1.6180371352785146\n",
            "14 1.618032786885246\n",
            "15 1.618034447821682\n",
            "16 1.6180338134001253\n",
            "17 1.618034055727554\n",
            "18 1.6180339631667064\n",
            "19 1.6180339985218033\n"
          ],
          "name": "stdout"
        }
      ]
    },
    {
      "cell_type": "code",
      "metadata": {
        "id": "IvnKHuqkVK7R",
        "colab_type": "code",
        "colab": {}
      },
      "source": [
        "def fibonacci_relative(pos, a, b):\n",
        "    for i in range(pos):\n",
        "        temp = a + b\n",
        "        a = b \n",
        "        b = temp\n",
        "    return temp   "
      ],
      "execution_count": 0,
      "outputs": []
    },
    {
      "cell_type": "code",
      "metadata": {
        "id": "_JHdKm-4XDcc",
        "colab_type": "code",
        "outputId": "8dc5ab1e-aed3-4303-f91a-b5732ee253f6",
        "colab": {
          "base_uri": "https://localhost:8080/",
          "height": 34
        }
      },
      "source": [
        "print(fibonacci_relative(3, 34, 55))"
      ],
      "execution_count": 0,
      "outputs": [
        {
          "output_type": "stream",
          "text": [
            "233\n"
          ],
          "name": "stdout"
        }
      ]
    },
    {
      "cell_type": "code",
      "metadata": {
        "id": "jISL3TQEXUBm",
        "colab_type": "code",
        "colab": {}
      },
      "source": [
        "def fibonacci_ol(pos, a=1, b=1):\n",
        "    for i in range(pos):\n",
        "        temp = a + b\n",
        "        a = b \n",
        "        b = temp\n",
        "    return temp   "
      ],
      "execution_count": 0,
      "outputs": []
    },
    {
      "cell_type": "code",
      "metadata": {
        "id": "5R-PcE8rYu8n",
        "colab_type": "code",
        "outputId": "74cb4862-51d2-4bf5-9d36-21cfc8a68128",
        "colab": {
          "base_uri": "https://localhost:8080/",
          "height": 34
        }
      },
      "source": [
        "print(fibonacci_ol(3, 34, 55))"
      ],
      "execution_count": 0,
      "outputs": [
        {
          "output_type": "stream",
          "text": [
            "233\n"
          ],
          "name": "stdout"
        }
      ]
    },
    {
      "cell_type": "code",
      "metadata": {
        "id": "CQ-PO1SKZAKm",
        "colab_type": "code",
        "colab": {}
      },
      "source": [
        "def fibonacci_recursive(n, a = 1, b = 1):\n",
        "    if n > 1:\n",
        "        return fibonacci_recursive(n-1, b, a + b)\n",
        "    else:\n",
        "        return a + b    "
      ],
      "execution_count": 0,
      "outputs": []
    },
    {
      "cell_type": "code",
      "metadata": {
        "id": "faxC9jKYa6aB",
        "colab_type": "code",
        "outputId": "e2be71a8-8baa-4456-9abb-a2ecb75835ab",
        "colab": {
          "base_uri": "https://localhost:8080/",
          "height": 34
        }
      },
      "source": [
        "print(fibonacci_recursive(3, 34, 55))"
      ],
      "execution_count": 0,
      "outputs": [
        {
          "output_type": "stream",
          "text": [
            "233\n"
          ],
          "name": "stdout"
        }
      ]
    }
  ]
}